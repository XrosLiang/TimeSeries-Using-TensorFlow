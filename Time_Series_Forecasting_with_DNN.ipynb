{
  "nbformat": 4,
  "nbformat_minor": 0,
  "metadata": {
    "colab": {
      "name": "Time Series Forecasting with DNN.ipynb",
      "provenance": [],
      "authorship_tag": "ABX9TyNpKbIMJ/lZ6W+Xuc7TDwm3",
      "include_colab_link": true
    },
    "kernelspec": {
      "name": "python3",
      "display_name": "Python 3"
    }
  },
  "cells": [
    {
      "cell_type": "markdown",
      "metadata": {
        "id": "view-in-github",
        "colab_type": "text"
      },
      "source": [
        "<a href=\"https://colab.research.google.com/github/adib0073/TimeSeries-Using-TensorFlow/blob/main/Time_Series_Forecasting_with_DNN.ipynb\" target=\"_parent\"><img src=\"https://colab.research.google.com/assets/colab-badge.svg\" alt=\"Open In Colab\"/></a>"
      ]
    },
    {
      "cell_type": "markdown",
      "metadata": {
        "id": "aAaQyzrU-03x"
      },
      "source": [
        "## Time Series Forecasting with DNN using TensorFlow\r\n",
        "\r\n",
        "In this notebook we will use a custom Deep Neural Network which can be used for forecasting Univariate Time Series data using TensorFlow. As an example of the time series data, we will be using the [Sunspot Data from Kaggle](https://www.kaggle.com/robervalt/sunspots). The data can be easily downloaded from my GitHub project [TimeSeries-Using-TensorFlow](https://github.com/adib0073/TimeSeries-Using-TensorFlow/blob/main/Data/Sunspots.csv). Now, let's begin! "
      ]
    },
    {
      "cell_type": "code",
      "metadata": {
        "id": "m6XH6Wyt91-2"
      },
      "source": [
        "import tensorflow as tf"
      ],
      "execution_count": 1,
      "outputs": []
    },
    {
      "cell_type": "code",
      "metadata": {
        "colab": {
          "base_uri": "https://localhost:8080/"
        },
        "id": "4ufLfs2Z__pr",
        "outputId": "bd60241d-49b3-4151-de2c-2517626df59c"
      },
      "source": [
        "# Please validate the TF version and make sure it is above 2.0. Otherwise please download the latest TF version\r\n",
        "print(tf.__version__)"
      ],
      "execution_count": 2,
      "outputs": [
        {
          "output_type": "stream",
          "text": [
            "2.4.0\n"
          ],
          "name": "stdout"
        }
      ]
    },
    {
      "cell_type": "markdown",
      "metadata": {
        "id": "oeojQVv3Aqfp"
      },
      "source": [
        "### Import Modules"
      ]
    },
    {
      "cell_type": "code",
      "metadata": {
        "id": "zEtFIkeFAJ6m"
      },
      "source": [
        "import numpy as np\r\n",
        "import pandas as pd\r\n",
        "import matplotlib.pyplot as plt\r\n",
        "import seaborn as sns"
      ],
      "execution_count": 3,
      "outputs": []
    },
    {
      "cell_type": "markdown",
      "metadata": {
        "id": "HZcTkxB4A8GH"
      },
      "source": [
        "### Downloading and loading the data"
      ]
    },
    {
      "cell_type": "code",
      "metadata": {
        "colab": {
          "base_uri": "https://localhost:8080/"
        },
        "id": "mU4aMrlrA2FS",
        "outputId": "664d3c25-39ff-459b-a97e-6b388a2ec859"
      },
      "source": [
        "!wget --no-check-certificate https://raw.githubusercontent.com/adib0073/TimeSeries-Using-TensorFlow/main/Data/Sunspots.csv -O /tmp/sunspots.csv"
      ],
      "execution_count": 10,
      "outputs": [
        {
          "output_type": "stream",
          "text": [
            "--2020-12-23 05:21:20--  https://raw.githubusercontent.com/adib0073/TimeSeries-Using-TensorFlow/main/Data/Sunspots.csv\n",
            "Resolving raw.githubusercontent.com (raw.githubusercontent.com)... 151.101.0.133, 151.101.64.133, 151.101.128.133, ...\n",
            "Connecting to raw.githubusercontent.com (raw.githubusercontent.com)|151.101.0.133|:443... connected.\n",
            "HTTP request sent, awaiting response... 200 OK\n",
            "Length: 70827 (69K) [text/plain]\n",
            "Saving to: ‘/tmp/sunspots.csv’\n",
            "\n",
            "/tmp/sunspots.csv   100%[===================>]  69.17K  --.-KB/s    in 0.01s   \n",
            "\n",
            "2020-12-23 05:21:21 (6.21 MB/s) - ‘/tmp/sunspots.csv’ saved [70827/70827]\n",
            "\n"
          ],
          "name": "stdout"
        }
      ]
    },
    {
      "cell_type": "code",
      "metadata": {
        "colab": {
          "base_uri": "https://localhost:8080/",
          "height": 197
        },
        "id": "qA6rr6dxBMzI",
        "outputId": "08737d76-cbb5-49e4-b785-d3d9bebda2a9"
      },
      "source": [
        "# Loading the data as a pandas dataframe\r\n",
        "df = pd.read_csv('/tmp/sunspots.csv', index_col=0)\r\n",
        "df.head()"
      ],
      "execution_count": 15,
      "outputs": [
        {
          "output_type": "execute_result",
          "data": {
            "text/html": [
              "<div>\n",
              "<style scoped>\n",
              "    .dataframe tbody tr th:only-of-type {\n",
              "        vertical-align: middle;\n",
              "    }\n",
              "\n",
              "    .dataframe tbody tr th {\n",
              "        vertical-align: top;\n",
              "    }\n",
              "\n",
              "    .dataframe thead th {\n",
              "        text-align: right;\n",
              "    }\n",
              "</style>\n",
              "<table border=\"1\" class=\"dataframe\">\n",
              "  <thead>\n",
              "    <tr style=\"text-align: right;\">\n",
              "      <th></th>\n",
              "      <th>Date</th>\n",
              "      <th>Monthly Mean Total Sunspot Number</th>\n",
              "    </tr>\n",
              "  </thead>\n",
              "  <tbody>\n",
              "    <tr>\n",
              "      <th>0</th>\n",
              "      <td>1749-01-31</td>\n",
              "      <td>96.7</td>\n",
              "    </tr>\n",
              "    <tr>\n",
              "      <th>1</th>\n",
              "      <td>1749-02-28</td>\n",
              "      <td>104.3</td>\n",
              "    </tr>\n",
              "    <tr>\n",
              "      <th>2</th>\n",
              "      <td>1749-03-31</td>\n",
              "      <td>116.7</td>\n",
              "    </tr>\n",
              "    <tr>\n",
              "      <th>3</th>\n",
              "      <td>1749-04-30</td>\n",
              "      <td>92.8</td>\n",
              "    </tr>\n",
              "    <tr>\n",
              "      <th>4</th>\n",
              "      <td>1749-05-31</td>\n",
              "      <td>141.7</td>\n",
              "    </tr>\n",
              "  </tbody>\n",
              "</table>\n",
              "</div>"
            ],
            "text/plain": [
              "         Date  Monthly Mean Total Sunspot Number\n",
              "0  1749-01-31                               96.7\n",
              "1  1749-02-28                              104.3\n",
              "2  1749-03-31                              116.7\n",
              "3  1749-04-30                               92.8\n",
              "4  1749-05-31                              141.7"
            ]
          },
          "metadata": {
            "tags": []
          },
          "execution_count": 15
        }
      ]
    },
    {
      "cell_type": "code",
      "metadata": {
        "id": "-oSBnGOvBexD"
      },
      "source": [
        ""
      ],
      "execution_count": null,
      "outputs": []
    }
  ]
}
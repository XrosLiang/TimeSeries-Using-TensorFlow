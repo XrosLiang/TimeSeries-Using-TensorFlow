{
  "nbformat": 4,
  "nbformat_minor": 0,
  "metadata": {
    "colab": {
      "name": "Time Series Forecasting with DNN.ipynb",
      "provenance": [],
      "authorship_tag": "ABX9TyMSCVQghrrWHyETshqaC43q",
      "include_colab_link": true
    },
    "kernelspec": {
      "name": "python3",
      "display_name": "Python 3"
    }
  },
  "cells": [
    {
      "cell_type": "markdown",
      "metadata": {
        "id": "view-in-github",
        "colab_type": "text"
      },
      "source": [
        "<a href=\"https://colab.research.google.com/github/adib0073/TimeSeries-Using-TensorFlow/blob/main/Time_Series_Forecasting_with_DNN.ipynb\" target=\"_parent\"><img src=\"https://colab.research.google.com/assets/colab-badge.svg\" alt=\"Open In Colab\"/></a>"
      ]
    },
    {
      "cell_type": "markdown",
      "metadata": {
        "id": "aAaQyzrU-03x"
      },
      "source": [
        "## Time Series Forecasting with DNN using TensorFlow\r\n",
        "\r\n",
        "In this notebook we will use a custom Deep Neural Network which can be used for forecasting Univariate Time Series data using TensorFlow. As an example of the time series data, we will be using the [Sunspot Data from Kaggle](https://www.kaggle.com/robervalt/sunspots). The data can be easily downloaded from my GitHub project [TimeSeries-Using-TensorFlow](https://github.com/adib0073/TimeSeries-Using-TensorFlow/blob/main/Data/Sunspots.csv). Now, let's begin! "
      ]
    },
    {
      "cell_type": "code",
      "metadata": {
        "id": "m6XH6Wyt91-2"
      },
      "source": [
        "import tensorflow as tf"
      ],
      "execution_count": 1,
      "outputs": []
    },
    {
      "cell_type": "code",
      "metadata": {
        "colab": {
          "base_uri": "https://localhost:8080/"
        },
        "id": "4ufLfs2Z__pr",
        "outputId": "bd60241d-49b3-4151-de2c-2517626df59c"
      },
      "source": [
        "# Please validate the TF version and make sure it is above 2.0. Otherwise please download the latest TF version\r\n",
        "print(tf.__version__)"
      ],
      "execution_count": 2,
      "outputs": [
        {
          "output_type": "stream",
          "text": [
            "2.4.0\n"
          ],
          "name": "stdout"
        }
      ]
    },
    {
      "cell_type": "markdown",
      "metadata": {
        "id": "oeojQVv3Aqfp"
      },
      "source": [
        "### Import Modules"
      ]
    },
    {
      "cell_type": "code",
      "metadata": {
        "id": "zEtFIkeFAJ6m"
      },
      "source": [
        "import numpy as np\r\n",
        "import pandas as pd\r\n",
        "import matplotlib.pyplot as plt\r\n",
        "import seaborn as sns\r\n",
        "plt.style.use('seaborn-darkgrid')\r\n",
        "tf.random.set_seed(51)\r\n",
        "np.random.seed(51)"
      ],
      "execution_count": 31,
      "outputs": []
    },
    {
      "cell_type": "markdown",
      "metadata": {
        "id": "HZcTkxB4A8GH"
      },
      "source": [
        "### Downloading and loading the data"
      ]
    },
    {
      "cell_type": "code",
      "metadata": {
        "colab": {
          "base_uri": "https://localhost:8080/"
        },
        "id": "mU4aMrlrA2FS",
        "outputId": "664d3c25-39ff-459b-a97e-6b388a2ec859"
      },
      "source": [
        "!wget --no-check-certificate https://raw.githubusercontent.com/adib0073/TimeSeries-Using-TensorFlow/main/Data/Sunspots.csv -O /tmp/sunspots.csv"
      ],
      "execution_count": 10,
      "outputs": [
        {
          "output_type": "stream",
          "text": [
            "--2020-12-23 05:21:20--  https://raw.githubusercontent.com/adib0073/TimeSeries-Using-TensorFlow/main/Data/Sunspots.csv\n",
            "Resolving raw.githubusercontent.com (raw.githubusercontent.com)... 151.101.0.133, 151.101.64.133, 151.101.128.133, ...\n",
            "Connecting to raw.githubusercontent.com (raw.githubusercontent.com)|151.101.0.133|:443... connected.\n",
            "HTTP request sent, awaiting response... 200 OK\n",
            "Length: 70827 (69K) [text/plain]\n",
            "Saving to: ‘/tmp/sunspots.csv’\n",
            "\n",
            "/tmp/sunspots.csv   100%[===================>]  69.17K  --.-KB/s    in 0.01s   \n",
            "\n",
            "2020-12-23 05:21:21 (6.21 MB/s) - ‘/tmp/sunspots.csv’ saved [70827/70827]\n",
            "\n"
          ],
          "name": "stdout"
        }
      ]
    },
    {
      "cell_type": "code",
      "metadata": {
        "colab": {
          "base_uri": "https://localhost:8080/",
          "height": 200
        },
        "id": "qA6rr6dxBMzI",
        "outputId": "08737d76-cbb5-49e4-b785-d3d9bebda2a9"
      },
      "source": [
        "# Loading the data as a pandas dataframe\r\n",
        "df = pd.read_csv('/tmp/sunspots.csv', index_col=0)\r\n",
        "df.head()"
      ],
      "execution_count": 15,
      "outputs": [
        {
          "output_type": "execute_result",
          "data": {
            "text/html": [
              "<div>\n",
              "<style scoped>\n",
              "    .dataframe tbody tr th:only-of-type {\n",
              "        vertical-align: middle;\n",
              "    }\n",
              "\n",
              "    .dataframe tbody tr th {\n",
              "        vertical-align: top;\n",
              "    }\n",
              "\n",
              "    .dataframe thead th {\n",
              "        text-align: right;\n",
              "    }\n",
              "</style>\n",
              "<table border=\"1\" class=\"dataframe\">\n",
              "  <thead>\n",
              "    <tr style=\"text-align: right;\">\n",
              "      <th></th>\n",
              "      <th>Date</th>\n",
              "      <th>Monthly Mean Total Sunspot Number</th>\n",
              "    </tr>\n",
              "  </thead>\n",
              "  <tbody>\n",
              "    <tr>\n",
              "      <th>0</th>\n",
              "      <td>1749-01-31</td>\n",
              "      <td>96.7</td>\n",
              "    </tr>\n",
              "    <tr>\n",
              "      <th>1</th>\n",
              "      <td>1749-02-28</td>\n",
              "      <td>104.3</td>\n",
              "    </tr>\n",
              "    <tr>\n",
              "      <th>2</th>\n",
              "      <td>1749-03-31</td>\n",
              "      <td>116.7</td>\n",
              "    </tr>\n",
              "    <tr>\n",
              "      <th>3</th>\n",
              "      <td>1749-04-30</td>\n",
              "      <td>92.8</td>\n",
              "    </tr>\n",
              "    <tr>\n",
              "      <th>4</th>\n",
              "      <td>1749-05-31</td>\n",
              "      <td>141.7</td>\n",
              "    </tr>\n",
              "  </tbody>\n",
              "</table>\n",
              "</div>"
            ],
            "text/plain": [
              "         Date  Monthly Mean Total Sunspot Number\n",
              "0  1749-01-31                               96.7\n",
              "1  1749-02-28                              104.3\n",
              "2  1749-03-31                              116.7\n",
              "3  1749-04-30                               92.8\n",
              "4  1749-05-31                              141.7"
            ]
          },
          "metadata": {
            "tags": []
          },
          "execution_count": 15
        }
      ]
    },
    {
      "cell_type": "code",
      "metadata": {
        "colab": {
          "base_uri": "https://localhost:8080/",
          "height": 347
        },
        "id": "-oSBnGOvBexD",
        "outputId": "56bf4a25-1edf-4e6a-c1e8-8200d132323b"
      },
      "source": [
        "# Let's visualize the series\r\n",
        "df.plot()\r\n",
        "plt.show()"
      ],
      "execution_count": 22,
      "outputs": [
        {
          "output_type": "display_data",
          "data": {
            "image/png": "[encoded data removed]",
            "text/plain": [
              "<Figure size 576x396 with 1 Axes>"
            ]
          },
          "metadata": {
            "tags": []
          }
        }
      ]
    },
    {
      "cell_type": "code",
      "metadata": {
        "id": "CcDx0YfpD1ik"
      },
      "source": [
        "# We don't see any clear trend, but we can see some seasonal patterns in the time series data"
      ],
      "execution_count": null,
      "outputs": []
    },
    {
      "cell_type": "markdown",
      "metadata": {
        "id": "46gsyvcVFNiU"
      },
      "source": [
        "### Data Preparation"
      ]
    },
    {
      "cell_type": "code",
      "metadata": {
        "id": "l26NrYiEFXeF"
      },
      "source": [
        "time_index = np.array(df['Date'])\r\n",
        "data = np.array(df['Monthly Mean Total Sunspot Number'])\r\n",
        "#time_index = time_index.reshape(-1,1)\r\n",
        "#data = data.reshape(-1,1)"
      ],
      "execution_count": 58,
      "outputs": []
    },
    {
      "cell_type": "code",
      "metadata": {
        "colab": {
          "base_uri": "https://localhost:8080/"
        },
        "id": "3YufVYCPFrP2",
        "outputId": "9e9fc8e3-fe28-4c88-83cd-8a0c19943b60"
      },
      "source": [
        "print(time_index.shape)\r\n",
        "print(data.shape)"
      ],
      "execution_count": 59,
      "outputs": [
        {
          "output_type": "stream",
          "text": [
            "(3235,)\n",
            "(3235,)\n"
          ],
          "name": "stdout"
        }
      ]
    },
    {
      "cell_type": "code",
      "metadata": {
        "id": "ZMJKRg4VFzIM"
      },
      "source": [
        "# Certain Hyper-parameters to tune\r\n",
        "SPLIT_RATIO = 0.8\r\n",
        "WINDOW_SIZE = 60\r\n",
        "BATCH_SIZE = 32\r\n",
        "SHUFFLE_BUFFER = 1000"
      ],
      "execution_count": 60,
      "outputs": []
    },
    {
      "cell_type": "code",
      "metadata": {
        "colab": {
          "base_uri": "https://localhost:8080/"
        },
        "id": "9Efzoq2CGUJ8",
        "outputId": "71ef816e-d606-4694-dacf-90865aac0008"
      },
      "source": [
        "# Dividing into train-test split\r\n",
        "split_index = int(SPLIT_RATIO * data.shape[0])\r\n",
        "print(split_index)"
      ],
      "execution_count": 61,
      "outputs": [
        {
          "output_type": "stream",
          "text": [
            "2588\n"
          ],
          "name": "stdout"
        }
      ]
    },
    {
      "cell_type": "code",
      "metadata": {
        "id": "XvzObJ_xGh-s"
      },
      "source": [
        "# Train-Test Split\r\n",
        "train_data = data[:split_index]\r\n",
        "train_time = time_index[:split_index]\r\n",
        "\r\n",
        "test_data = data[split_index:]\r\n",
        "test_time = time_index[split_index:]"
      ],
      "execution_count": 62,
      "outputs": []
    },
    {
      "cell_type": "code",
      "metadata": {
        "id": "LK6vRlVGH6bc"
      },
      "source": [
        "def ts_data_generator(data, window_size, batch_size, shuffle_buffer):\r\n",
        "  '''\r\n",
        "  Utility function for time series data generation in batches\r\n",
        "  '''\r\n",
        "  ts_data = tf.data.Dataset.from_tensor_slices(data)\r\n",
        "  ts_data = ts_data.window(window_size + 1, shift=1, drop_remainder=True)\r\n",
        "  ts_data = ts_data.flat_map(lambda window: window.batch(window_size + 1))\r\n",
        "  ts_data = ts_data.shuffle(shuffle_buffer).map(lambda window: (window[:-1], window[-1]))\r\n",
        "  ts_data = ts_data.batch(batch_size).prefetch(1)\r\n",
        "  return ts_data"
      ],
      "execution_count": 63,
      "outputs": []
    },
    {
      "cell_type": "code",
      "metadata": {
        "id": "u7fi9mRPMaPu"
      },
      "source": [
        "train_dataset = ts_data_generator(train_data, WINDOW_SIZE, BATCH_SIZE, SHUFFLE_BUFFER)\r\n",
        "test_dataset = ts_data_generator(test_data, WINDOW_SIZE, BATCH_SIZE, SHUFFLE_BUFFER)\r\n"
      ],
      "execution_count": 64,
      "outputs": []
    },
    {
      "cell_type": "code",
      "metadata": {
        "colab": {
          "base_uri": "https://localhost:8080/"
        },
        "id": "wMKz5uqjNQ2l",
        "outputId": "6670312a-a223-462c-de3a-3d0e8700617f"
      },
      "source": [
        "train_dataset"
      ],
      "execution_count": 65,
      "outputs": [
        {
          "output_type": "execute_result",
          "data": {
            "text/plain": [
              "<PrefetchDataset shapes: ((None, None), (None,)), types: (tf.float64, tf.float64)>"
            ]
          },
          "metadata": {
            "tags": []
          },
          "execution_count": 65
        }
      ]
    },
    {
      "cell_type": "markdown",
      "metadata": {
        "id": "U-Iu1JPXJ-Kx"
      },
      "source": [
        "### TensorFlow DNN Model"
      ]
    },
    {
      "cell_type": "code",
      "metadata": {
        "colab": {
          "base_uri": "https://localhost:8080/"
        },
        "id": "nx59dlURIs2T",
        "outputId": "52158527-a136-4344-b5c4-13ef4280d318"
      },
      "source": [
        "model = tf.keras.models.Sequential([\r\n",
        "    tf.keras.layers.Dense(20, input_shape=[WINDOW_SIZE], activation=\"relu\"), \r\n",
        "    tf.keras.layers.Dense(10, activation=\"relu\"),\r\n",
        "    tf.keras.layers.Dense(1)\r\n",
        "])\r\n",
        "\r\n",
        "model.compile(loss=\"mse\", optimizer=tf.keras.optimizers.SGD(lr=1e-7, momentum=0.9))\r\n",
        "model.fit(train_dataset, epochs=200,validation_data = test_dataset)"
      ],
      "execution_count": 67,
      "outputs": [
        {
          "output_type": "stream",
          "text": [
            "Epoch 1/200\n",
            "79/79 [==============================] - 1s 9ms/step - loss: 2546.9874 - val_loss: 1215.2766\n",
            "Epoch 2/200\n",
            "79/79 [==============================] - 1s 7ms/step - loss: 1355.8905 - val_loss: 1010.8966\n",
            "Epoch 3/200\n",
            "79/79 [==============================] - 1s 7ms/step - loss: 1124.5238 - val_loss: 893.6034\n",
            "Epoch 4/200\n",
            "79/79 [==============================] - 1s 8ms/step - loss: 1071.7694 - val_loss: 810.0725\n",
            "Epoch 5/200\n",
            "79/79 [==============================] - 1s 8ms/step - loss: 932.4372 - val_loss: 767.9634\n",
            "Epoch 6/200\n",
            "79/79 [==============================] - 1s 6ms/step - loss: 876.1713 - val_loss: 740.3677\n",
            "Epoch 7/200\n",
            "79/79 [==============================] - 1s 8ms/step - loss: 950.3283 - val_loss: 706.0848\n",
            "Epoch 8/200\n",
            "79/79 [==============================] - 1s 7ms/step - loss: 849.1399 - val_loss: 675.4581\n",
            "Epoch 9/200\n",
            "79/79 [==============================] - 1s 7ms/step - loss: 796.9535 - val_loss: 664.1207\n",
            "Epoch 10/200\n",
            "79/79 [==============================] - 1s 6ms/step - loss: 786.9360 - val_loss: 645.5507\n",
            "Epoch 11/200\n",
            "79/79 [==============================] - 1s 7ms/step - loss: 804.0468 - val_loss: 661.7661\n",
            "Epoch 12/200\n",
            "79/79 [==============================] - 1s 7ms/step - loss: 750.2587 - val_loss: 623.3406\n",
            "Epoch 13/200\n",
            "79/79 [==============================] - 1s 8ms/step - loss: 728.5940 - val_loss: 625.2959\n",
            "Epoch 14/200\n",
            "79/79 [==============================] - 1s 7ms/step - loss: 740.4011 - val_loss: 625.6844\n",
            "Epoch 15/200\n",
            "79/79 [==============================] - 1s 9ms/step - loss: 702.1447 - val_loss: 604.7986\n",
            "Epoch 16/200\n",
            "79/79 [==============================] - 1s 7ms/step - loss: 745.6790 - val_loss: 598.6310\n",
            "Epoch 17/200\n",
            "79/79 [==============================] - 1s 7ms/step - loss: 724.8049 - val_loss: 594.4995\n",
            "Epoch 18/200\n",
            "79/79 [==============================] - 1s 8ms/step - loss: 684.7678 - val_loss: 592.1094\n",
            "Epoch 19/200\n",
            "79/79 [==============================] - 1s 7ms/step - loss: 698.0174 - val_loss: 583.4360\n",
            "Epoch 20/200\n",
            "79/79 [==============================] - 1s 7ms/step - loss: 712.0149 - val_loss: 580.8572\n",
            "Epoch 21/200\n",
            "79/79 [==============================] - 1s 7ms/step - loss: 721.4866 - val_loss: 588.6357\n",
            "Epoch 22/200\n",
            "79/79 [==============================] - 1s 7ms/step - loss: 684.2198 - val_loss: 576.0804\n",
            "Epoch 23/200\n",
            "79/79 [==============================] - 1s 7ms/step - loss: 694.6128 - val_loss: 568.3679\n",
            "Epoch 24/200\n",
            "79/79 [==============================] - 1s 7ms/step - loss: 678.8668 - val_loss: 564.1708\n",
            "Epoch 25/200\n",
            "79/79 [==============================] - 1s 7ms/step - loss: 692.2523 - val_loss: 561.6949\n",
            "Epoch 26/200\n",
            "79/79 [==============================] - 1s 7ms/step - loss: 699.2770 - val_loss: 573.8082\n",
            "Epoch 27/200\n",
            "79/79 [==============================] - 1s 7ms/step - loss: 644.6075 - val_loss: 555.6868\n",
            "Epoch 28/200\n",
            "79/79 [==============================] - 1s 7ms/step - loss: 694.9334 - val_loss: 552.9712\n",
            "Epoch 29/200\n",
            "79/79 [==============================] - 1s 7ms/step - loss: 645.4573 - val_loss: 561.7847\n",
            "Epoch 30/200\n",
            "79/79 [==============================] - 1s 7ms/step - loss: 692.3103 - val_loss: 570.1151\n",
            "Epoch 31/200\n",
            "79/79 [==============================] - 1s 7ms/step - loss: 688.4101 - val_loss: 553.4549\n",
            "Epoch 32/200\n",
            "79/79 [==============================] - 1s 7ms/step - loss: 691.2685 - val_loss: 552.7026\n",
            "Epoch 33/200\n",
            "79/79 [==============================] - 1s 8ms/step - loss: 669.0158 - val_loss: 553.3276\n",
            "Epoch 34/200\n",
            "79/79 [==============================] - 1s 8ms/step - loss: 655.0273 - val_loss: 558.7534\n",
            "Epoch 35/200\n",
            "79/79 [==============================] - 1s 8ms/step - loss: 613.0070 - val_loss: 546.2744\n",
            "Epoch 36/200\n",
            "79/79 [==============================] - 1s 7ms/step - loss: 661.6266 - val_loss: 541.6135\n",
            "Epoch 37/200\n",
            "79/79 [==============================] - 1s 7ms/step - loss: 678.6138 - val_loss: 544.5047\n",
            "Epoch 38/200\n",
            "79/79 [==============================] - 1s 7ms/step - loss: 607.2249 - val_loss: 545.5169\n",
            "Epoch 39/200\n",
            "79/79 [==============================] - 1s 7ms/step - loss: 625.7823 - val_loss: 533.4227\n",
            "Epoch 40/200\n",
            "79/79 [==============================] - 1s 7ms/step - loss: 602.5804 - val_loss: 535.0149\n",
            "Epoch 41/200\n",
            "79/79 [==============================] - 1s 8ms/step - loss: 676.0752 - val_loss: 545.4424\n",
            "Epoch 42/200\n",
            "79/79 [==============================] - 1s 7ms/step - loss: 630.1611 - val_loss: 530.5930\n",
            "Epoch 43/200\n",
            "79/79 [==============================] - 1s 7ms/step - loss: 660.4306 - val_loss: 551.7036\n",
            "Epoch 44/200\n",
            "79/79 [==============================] - 1s 7ms/step - loss: 607.4098 - val_loss: 531.1237\n",
            "Epoch 45/200\n",
            "79/79 [==============================] - 1s 7ms/step - loss: 628.8128 - val_loss: 529.3899\n",
            "Epoch 46/200\n",
            "79/79 [==============================] - 1s 7ms/step - loss: 653.9381 - val_loss: 527.4434\n",
            "Epoch 47/200\n",
            "79/79 [==============================] - 1s 7ms/step - loss: 624.6503 - val_loss: 527.6728\n",
            "Epoch 48/200\n",
            "79/79 [==============================] - 1s 8ms/step - loss: 623.2351 - val_loss: 538.3395\n",
            "Epoch 49/200\n",
            "79/79 [==============================] - 1s 7ms/step - loss: 635.0395 - val_loss: 524.3699\n",
            "Epoch 50/200\n",
            "79/79 [==============================] - 1s 7ms/step - loss: 590.6425 - val_loss: 527.5285\n",
            "Epoch 51/200\n",
            "79/79 [==============================] - 1s 7ms/step - loss: 659.2633 - val_loss: 550.2422\n",
            "Epoch 52/200\n",
            "79/79 [==============================] - 1s 8ms/step - loss: 643.7707 - val_loss: 532.2659\n",
            "Epoch 53/200\n",
            "79/79 [==============================] - 1s 7ms/step - loss: 625.7046 - val_loss: 533.6039\n",
            "Epoch 54/200\n",
            "79/79 [==============================] - 1s 7ms/step - loss: 596.8678 - val_loss: 526.2125\n",
            "Epoch 55/200\n",
            "79/79 [==============================] - 1s 7ms/step - loss: 614.5812 - val_loss: 530.9954\n",
            "Epoch 56/200\n",
            "79/79 [==============================] - 1s 8ms/step - loss: 616.3928 - val_loss: 518.9602\n",
            "Epoch 57/200\n",
            "79/79 [==============================] - 1s 7ms/step - loss: 599.0098 - val_loss: 521.4235\n",
            "Epoch 58/200\n",
            "79/79 [==============================] - 1s 9ms/step - loss: 611.5574 - val_loss: 522.0380\n",
            "Epoch 59/200\n",
            "79/79 [==============================] - 1s 6ms/step - loss: 611.8717 - val_loss: 518.0168\n",
            "Epoch 60/200\n",
            "79/79 [==============================] - 1s 7ms/step - loss: 626.9648 - val_loss: 516.7966\n",
            "Epoch 61/200\n",
            "79/79 [==============================] - 1s 7ms/step - loss: 648.3503 - val_loss: 516.4186\n",
            "Epoch 62/200\n",
            "79/79 [==============================] - 1s 6ms/step - loss: 625.3061 - val_loss: 532.4888\n",
            "Epoch 63/200\n",
            "79/79 [==============================] - 1s 7ms/step - loss: 618.8060 - val_loss: 541.7223\n",
            "Epoch 64/200\n",
            "79/79 [==============================] - 1s 7ms/step - loss: 592.0740 - val_loss: 519.4359\n",
            "Epoch 65/200\n",
            "79/79 [==============================] - 1s 7ms/step - loss: 622.3510 - val_loss: 523.2772\n",
            "Epoch 66/200\n",
            "79/79 [==============================] - 1s 8ms/step - loss: 653.6183 - val_loss: 513.8393\n",
            "Epoch 67/200\n",
            "79/79 [==============================] - 1s 9ms/step - loss: 607.4901 - val_loss: 536.6286\n",
            "Epoch 68/200\n",
            "79/79 [==============================] - 1s 10ms/step - loss: 613.6452 - val_loss: 514.2047\n",
            "Epoch 69/200\n",
            "79/79 [==============================] - 1s 9ms/step - loss: 640.7402 - val_loss: 525.4171\n",
            "Epoch 70/200\n",
            "79/79 [==============================] - 1s 11ms/step - loss: 604.8513 - val_loss: 524.6630\n",
            "Epoch 71/200\n",
            "79/79 [==============================] - 1s 9ms/step - loss: 625.3309 - val_loss: 528.0048\n",
            "Epoch 72/200\n",
            "79/79 [==============================] - 1s 11ms/step - loss: 624.2467 - val_loss: 515.0325\n",
            "Epoch 73/200\n",
            "79/79 [==============================] - 1s 11ms/step - loss: 611.7377 - val_loss: 515.5065\n",
            "Epoch 74/200\n",
            "79/79 [==============================] - 1s 11ms/step - loss: 581.3370 - val_loss: 513.1246\n",
            "Epoch 75/200\n",
            "79/79 [==============================] - 1s 9ms/step - loss: 582.1123 - val_loss: 519.0317\n",
            "Epoch 76/200\n",
            "79/79 [==============================] - 1s 9ms/step - loss: 626.8258 - val_loss: 513.6022\n",
            "Epoch 77/200\n",
            "79/79 [==============================] - 1s 7ms/step - loss: 610.8191 - val_loss: 518.2590\n",
            "Epoch 78/200\n",
            "79/79 [==============================] - 1s 10ms/step - loss: 610.6505 - val_loss: 524.1370\n",
            "Epoch 79/200\n",
            "79/79 [==============================] - 2s 17ms/step - loss: 618.4342 - val_loss: 518.4077\n",
            "Epoch 80/200\n",
            "79/79 [==============================] - 2s 16ms/step - loss: 603.8361 - val_loss: 515.8859\n",
            "Epoch 81/200\n",
            "79/79 [==============================] - 2s 18ms/step - loss: 572.4450 - val_loss: 522.0485\n",
            "Epoch 82/200\n",
            "79/79 [==============================] - 2s 17ms/step - loss: 590.5465 - val_loss: 515.5558\n",
            "Epoch 83/200\n",
            "79/79 [==============================] - 1s 13ms/step - loss: 612.0675 - val_loss: 513.4659\n",
            "Epoch 84/200\n",
            "79/79 [==============================] - 1s 15ms/step - loss: 624.5083 - val_loss: 535.3964\n",
            "Epoch 85/200\n",
            "79/79 [==============================] - 1s 12ms/step - loss: 582.4638 - val_loss: 519.3719\n",
            "Epoch 86/200\n",
            "79/79 [==============================] - 1s 8ms/step - loss: 599.8762 - val_loss: 554.8516\n",
            "Epoch 87/200\n",
            "79/79 [==============================] - 1s 9ms/step - loss: 582.0071 - val_loss: 516.1750\n",
            "Epoch 88/200\n",
            "79/79 [==============================] - 1s 9ms/step - loss: 582.6027 - val_loss: 513.7328\n",
            "Epoch 89/200\n",
            "79/79 [==============================] - 1s 8ms/step - loss: 586.3740 - val_loss: 543.9814\n",
            "Epoch 90/200\n",
            "79/79 [==============================] - 1s 8ms/step - loss: 539.1055 - val_loss: 536.3013\n",
            "Epoch 91/200\n",
            "79/79 [==============================] - 1s 8ms/step - loss: 616.5437 - val_loss: 516.6400\n",
            "Epoch 92/200\n",
            "79/79 [==============================] - 1s 7ms/step - loss: 621.6134 - val_loss: 514.3275\n",
            "Epoch 93/200\n",
            "79/79 [==============================] - 1s 8ms/step - loss: 567.6152 - val_loss: 532.0311\n",
            "Epoch 94/200\n",
            "79/79 [==============================] - 1s 9ms/step - loss: 611.7424 - val_loss: 512.8068\n",
            "Epoch 95/200\n",
            "79/79 [==============================] - 1s 8ms/step - loss: 575.7826 - val_loss: 512.0933\n",
            "Epoch 96/200\n",
            "79/79 [==============================] - 1s 9ms/step - loss: 563.4585 - val_loss: 513.1031\n",
            "Epoch 97/200\n",
            "79/79 [==============================] - 1s 8ms/step - loss: 568.1158 - val_loss: 512.6827\n",
            "Epoch 98/200\n",
            "79/79 [==============================] - 1s 9ms/step - loss: 579.7429 - val_loss: 513.0075\n",
            "Epoch 99/200\n",
            "79/79 [==============================] - 1s 8ms/step - loss: 605.6214 - val_loss: 532.5446\n",
            "Epoch 100/200\n",
            "79/79 [==============================] - 1s 8ms/step - loss: 593.8855 - val_loss: 519.8869\n",
            "Epoch 101/200\n",
            "79/79 [==============================] - 1s 9ms/step - loss: 575.8266 - val_loss: 517.1534\n",
            "Epoch 102/200\n",
            "79/79 [==============================] - 1s 8ms/step - loss: 604.0991 - val_loss: 511.2162\n",
            "Epoch 103/200\n",
            "79/79 [==============================] - 1s 9ms/step - loss: 641.9805 - val_loss: 510.2909\n",
            "Epoch 104/200\n",
            "79/79 [==============================] - 1s 8ms/step - loss: 585.1678 - val_loss: 512.8585\n",
            "Epoch 105/200\n",
            "79/79 [==============================] - 1s 9ms/step - loss: 591.8066 - val_loss: 536.4153\n",
            "Epoch 106/200\n",
            "79/79 [==============================] - 1s 7ms/step - loss: 573.7270 - val_loss: 511.0070\n",
            "Epoch 107/200\n",
            "79/79 [==============================] - 1s 8ms/step - loss: 609.9943 - val_loss: 512.0884\n",
            "Epoch 108/200\n",
            "79/79 [==============================] - 1s 8ms/step - loss: 594.9874 - val_loss: 513.3677\n",
            "Epoch 109/200\n",
            "79/79 [==============================] - 1s 9ms/step - loss: 554.2273 - val_loss: 520.4348\n",
            "Epoch 110/200\n",
            "79/79 [==============================] - 1s 8ms/step - loss: 587.9504 - val_loss: 511.8255\n",
            "Epoch 111/200\n",
            "79/79 [==============================] - 1s 7ms/step - loss: 564.2744 - val_loss: 516.8434\n",
            "Epoch 112/200\n",
            "79/79 [==============================] - 1s 7ms/step - loss: 568.4417 - val_loss: 516.6830\n",
            "Epoch 113/200\n",
            "79/79 [==============================] - 1s 7ms/step - loss: 548.6829 - val_loss: 522.4886\n",
            "Epoch 114/200\n",
            "79/79 [==============================] - 1s 7ms/step - loss: 559.6687 - val_loss: 531.8823\n",
            "Epoch 115/200\n",
            "79/79 [==============================] - 1s 7ms/step - loss: 563.3755 - val_loss: 516.8097\n",
            "Epoch 116/200\n",
            "79/79 [==============================] - 1s 8ms/step - loss: 558.6696 - val_loss: 514.6533\n",
            "Epoch 117/200\n",
            "79/79 [==============================] - 1s 8ms/step - loss: 597.5707 - val_loss: 512.9219\n",
            "Epoch 118/200\n",
            "79/79 [==============================] - 1s 8ms/step - loss: 585.7630 - val_loss: 513.6171\n",
            "Epoch 119/200\n",
            "79/79 [==============================] - 1s 8ms/step - loss: 577.2594 - val_loss: 511.6598\n",
            "Epoch 120/200\n",
            "79/79 [==============================] - 1s 8ms/step - loss: 562.1539 - val_loss: 530.3802\n",
            "Epoch 121/200\n",
            "79/79 [==============================] - 1s 9ms/step - loss: 555.9707 - val_loss: 511.4373\n",
            "Epoch 122/200\n",
            "79/79 [==============================] - 1s 10ms/step - loss: 614.8986 - val_loss: 520.1447\n",
            "Epoch 123/200\n",
            "79/79 [==============================] - 1s 8ms/step - loss: 568.8638 - val_loss: 518.3849\n",
            "Epoch 124/200\n",
            "79/79 [==============================] - 1s 9ms/step - loss: 551.1043 - val_loss: 514.5498\n",
            "Epoch 125/200\n",
            "79/79 [==============================] - 1s 8ms/step - loss: 561.2958 - val_loss: 512.5775\n",
            "Epoch 126/200\n",
            "79/79 [==============================] - 1s 8ms/step - loss: 553.0963 - val_loss: 518.0500\n",
            "Epoch 127/200\n",
            "79/79 [==============================] - 1s 7ms/step - loss: 578.8930 - val_loss: 512.1352\n",
            "Epoch 128/200\n",
            "79/79 [==============================] - 1s 9ms/step - loss: 593.3261 - val_loss: 528.3103\n",
            "Epoch 129/200\n",
            "79/79 [==============================] - 1s 8ms/step - loss: 584.4374 - val_loss: 514.8653\n",
            "Epoch 130/200\n",
            "79/79 [==============================] - 1s 8ms/step - loss: 570.8473 - val_loss: 512.7128\n",
            "Epoch 131/200\n",
            "79/79 [==============================] - 1s 7ms/step - loss: 591.3961 - val_loss: 518.8230\n",
            "Epoch 132/200\n",
            "79/79 [==============================] - 1s 7ms/step - loss: 562.9865 - val_loss: 510.7832\n",
            "Epoch 133/200\n",
            "79/79 [==============================] - 1s 7ms/step - loss: 582.9577 - val_loss: 537.0903\n",
            "Epoch 134/200\n",
            "79/79 [==============================] - 1s 7ms/step - loss: 553.1890 - val_loss: 536.2081\n",
            "Epoch 135/200\n",
            "79/79 [==============================] - 1s 8ms/step - loss: 571.6480 - val_loss: 527.6889\n",
            "Epoch 136/200\n",
            "79/79 [==============================] - 1s 7ms/step - loss: 567.9182 - val_loss: 509.8418\n",
            "Epoch 137/200\n",
            "79/79 [==============================] - 1s 7ms/step - loss: 560.5491 - val_loss: 509.1056\n",
            "Epoch 138/200\n",
            "79/79 [==============================] - 1s 8ms/step - loss: 560.6217 - val_loss: 514.7151\n",
            "Epoch 139/200\n",
            "79/79 [==============================] - 1s 8ms/step - loss: 567.1347 - val_loss: 512.5084\n",
            "Epoch 140/200\n",
            "79/79 [==============================] - 1s 7ms/step - loss: 564.5821 - val_loss: 511.3087\n",
            "Epoch 141/200\n",
            "79/79 [==============================] - 1s 8ms/step - loss: 550.6407 - val_loss: 535.8087\n",
            "Epoch 142/200\n",
            "79/79 [==============================] - 1s 7ms/step - loss: 619.1692 - val_loss: 518.1783\n",
            "Epoch 143/200\n",
            "79/79 [==============================] - 1s 7ms/step - loss: 568.1100 - val_loss: 513.1294\n",
            "Epoch 144/200\n",
            "79/79 [==============================] - 1s 8ms/step - loss: 593.6150 - val_loss: 509.9595\n",
            "Epoch 145/200\n",
            "79/79 [==============================] - 1s 7ms/step - loss: 570.0384 - val_loss: 523.3079\n",
            "Epoch 146/200\n",
            "79/79 [==============================] - 1s 7ms/step - loss: 590.3354 - val_loss: 509.2140\n",
            "Epoch 147/200\n",
            "79/79 [==============================] - 1s 6ms/step - loss: 594.3069 - val_loss: 515.7897\n",
            "Epoch 148/200\n",
            "79/79 [==============================] - 1s 7ms/step - loss: 554.0997 - val_loss: 514.2733\n",
            "Epoch 149/200\n",
            "79/79 [==============================] - 1s 7ms/step - loss: 543.4985 - val_loss: 516.4089\n",
            "Epoch 150/200\n",
            "79/79 [==============================] - 1s 6ms/step - loss: 519.7058 - val_loss: 522.8925\n",
            "Epoch 151/200\n",
            "79/79 [==============================] - 1s 7ms/step - loss: 547.0541 - val_loss: 540.5236\n",
            "Epoch 152/200\n",
            "79/79 [==============================] - 1s 7ms/step - loss: 563.5523 - val_loss: 516.0596\n",
            "Epoch 153/200\n",
            "79/79 [==============================] - 1s 7ms/step - loss: 561.7312 - val_loss: 520.6255\n",
            "Epoch 154/200\n",
            "79/79 [==============================] - 1s 6ms/step - loss: 579.7725 - val_loss: 509.1056\n",
            "Epoch 155/200\n",
            "79/79 [==============================] - 1s 7ms/step - loss: 559.5165 - val_loss: 510.5073\n",
            "Epoch 156/200\n",
            "79/79 [==============================] - 1s 8ms/step - loss: 549.2403 - val_loss: 515.6622\n",
            "Epoch 157/200\n",
            "79/79 [==============================] - 1s 7ms/step - loss: 572.4585 - val_loss: 511.8316\n",
            "Epoch 158/200\n",
            "79/79 [==============================] - 1s 9ms/step - loss: 542.6872 - val_loss: 511.1702\n",
            "Epoch 159/200\n",
            "79/79 [==============================] - 1s 11ms/step - loss: 548.2897 - val_loss: 520.7610\n",
            "Epoch 160/200\n",
            "79/79 [==============================] - 1s 9ms/step - loss: 577.4156 - val_loss: 514.6565\n",
            "Epoch 161/200\n",
            "79/79 [==============================] - 1s 11ms/step - loss: 564.0941 - val_loss: 515.5186\n",
            "Epoch 162/200\n",
            "79/79 [==============================] - 1s 11ms/step - loss: 546.7212 - val_loss: 530.7937\n",
            "Epoch 163/200\n",
            "79/79 [==============================] - 1s 11ms/step - loss: 562.1767 - val_loss: 516.1628\n",
            "Epoch 164/200\n",
            "79/79 [==============================] - 1s 7ms/step - loss: 540.7807 - val_loss: 513.2947\n",
            "Epoch 165/200\n",
            "79/79 [==============================] - 1s 8ms/step - loss: 564.1052 - val_loss: 512.4519\n",
            "Epoch 166/200\n",
            "79/79 [==============================] - 1s 8ms/step - loss: 533.9276 - val_loss: 511.6421\n",
            "Epoch 167/200\n",
            "79/79 [==============================] - 1s 7ms/step - loss: 555.6395 - val_loss: 558.4973\n",
            "Epoch 168/200\n",
            "79/79 [==============================] - 1s 7ms/step - loss: 595.5804 - val_loss: 509.8106\n",
            "Epoch 169/200\n",
            "79/79 [==============================] - 1s 7ms/step - loss: 574.6756 - val_loss: 528.5756\n",
            "Epoch 170/200\n",
            "79/79 [==============================] - 1s 7ms/step - loss: 586.8977 - val_loss: 511.9303\n",
            "Epoch 171/200\n",
            "79/79 [==============================] - 1s 7ms/step - loss: 574.9761 - val_loss: 511.5114\n",
            "Epoch 172/200\n",
            "79/79 [==============================] - 1s 7ms/step - loss: 573.0180 - val_loss: 521.5530\n",
            "Epoch 173/200\n",
            "79/79 [==============================] - 1s 7ms/step - loss: 568.1816 - val_loss: 521.3835\n",
            "Epoch 174/200\n",
            "79/79 [==============================] - 1s 6ms/step - loss: 534.9744 - val_loss: 526.9485\n",
            "Epoch 175/200\n",
            "79/79 [==============================] - 1s 7ms/step - loss: 550.0962 - val_loss: 518.7127\n",
            "Epoch 176/200\n",
            "79/79 [==============================] - 1s 8ms/step - loss: 506.8761 - val_loss: 518.1097\n",
            "Epoch 177/200\n",
            "79/79 [==============================] - 1s 8ms/step - loss: 570.2542 - val_loss: 521.7633\n",
            "Epoch 178/200\n",
            "79/79 [==============================] - 1s 7ms/step - loss: 588.8215 - val_loss: 511.8166\n",
            "Epoch 179/200\n",
            "79/79 [==============================] - 1s 6ms/step - loss: 590.7961 - val_loss: 550.7400\n",
            "Epoch 180/200\n",
            "79/79 [==============================] - 1s 7ms/step - loss: 532.1070 - val_loss: 516.6417\n",
            "Epoch 181/200\n",
            "79/79 [==============================] - 1s 7ms/step - loss: 550.2999 - val_loss: 516.9287\n",
            "Epoch 182/200\n",
            "79/79 [==============================] - 1s 7ms/step - loss: 539.0050 - val_loss: 527.0582\n",
            "Epoch 183/200\n",
            "79/79 [==============================] - 1s 8ms/step - loss: 564.6014 - val_loss: 514.6245\n",
            "Epoch 184/200\n",
            "79/79 [==============================] - 1s 7ms/step - loss: 603.3114 - val_loss: 514.1875\n",
            "Epoch 185/200\n",
            "79/79 [==============================] - 1s 7ms/step - loss: 541.7545 - val_loss: 518.2525\n",
            "Epoch 186/200\n",
            "79/79 [==============================] - 1s 8ms/step - loss: 566.9104 - val_loss: 514.6080\n",
            "Epoch 187/200\n",
            "79/79 [==============================] - 1s 9ms/step - loss: 543.3987 - val_loss: 532.1966\n",
            "Epoch 188/200\n",
            "79/79 [==============================] - 1s 7ms/step - loss: 534.8211 - val_loss: 516.6996\n",
            "Epoch 189/200\n",
            "79/79 [==============================] - 1s 7ms/step - loss: 554.9591 - val_loss: 515.1008\n",
            "Epoch 190/200\n",
            "79/79 [==============================] - 1s 7ms/step - loss: 561.7818 - val_loss: 514.5386\n",
            "Epoch 191/200\n",
            "79/79 [==============================] - 1s 7ms/step - loss: 537.8290 - val_loss: 512.7344\n",
            "Epoch 192/200\n",
            "79/79 [==============================] - 1s 7ms/step - loss: 586.3818 - val_loss: 525.8991\n",
            "Epoch 193/200\n",
            "79/79 [==============================] - 1s 7ms/step - loss: 543.3024 - val_loss: 528.3223\n",
            "Epoch 194/200\n",
            "79/79 [==============================] - 1s 7ms/step - loss: 578.2735 - val_loss: 542.6617\n",
            "Epoch 195/200\n",
            "79/79 [==============================] - 1s 7ms/step - loss: 605.5571 - val_loss: 523.3635\n",
            "Epoch 196/200\n",
            "79/79 [==============================] - 1s 6ms/step - loss: 561.3013 - val_loss: 518.7684\n",
            "Epoch 197/200\n",
            "79/79 [==============================] - 1s 6ms/step - loss: 586.3300 - val_loss: 525.8988\n",
            "Epoch 198/200\n",
            "79/79 [==============================] - 1s 7ms/step - loss: 587.9532 - val_loss: 534.7031\n",
            "Epoch 199/200\n",
            "79/79 [==============================] - 1s 7ms/step - loss: 524.0233 - val_loss: 521.0173\n",
            "Epoch 200/200\n",
            "79/79 [==============================] - 1s 8ms/step - loss: 567.2514 - val_loss: 520.7255\n"
          ],
          "name": "stdout"
        },
        {
          "output_type": "execute_result",
          "data": {
            "text/plain": [
              "<tensorflow.python.keras.callbacks.History at 0x7ff9fb1e1438>"
            ]
          },
          "metadata": {
            "tags": []
          },
          "execution_count": 67
        }
      ]
    },
    {
      "cell_type": "markdown",
      "metadata": {
        "id": "Bk8k0SgrQDPb"
      },
      "source": [
        "### Model Evaluation"
      ]
    },
    {
      "cell_type": "code",
      "metadata": {
        "colab": {
          "base_uri": "https://localhost:8080/"
        },
        "id": "VJ-JrJezRbrz",
        "outputId": "2a870e9c-0092-4a72-d78f-ad99065dc34f"
      },
      "source": [
        "time_int = np.array(list(range(len(data))))\r\n",
        "time_int"
      ],
      "execution_count": 71,
      "outputs": [
        {
          "output_type": "execute_result",
          "data": {
            "text/plain": [
              "array([   0,    1,    2, ..., 3232, 3233, 3234])"
            ]
          },
          "metadata": {
            "tags": []
          },
          "execution_count": 71
        }
      ]
    },
    {
      "cell_type": "code",
      "metadata": {
        "id": "TtLq5_jZKnsV"
      },
      "source": [
        "forecast=[]\r\n",
        "for time in range(len(data) - WINDOW_SIZE):\r\n",
        "  forecast.append(model.predict(data[time:time + WINDOW_SIZE][np.newaxis]))\r\n",
        "\r\n",
        "forecast = forecast[split_index-WINDOW_SIZE:]\r\n",
        "results = np.array(forecast)[:, 0, 0]"
      ],
      "execution_count": 74,
      "outputs": []
    },
    {
      "cell_type": "code",
      "metadata": {
        "colab": {
          "base_uri": "https://localhost:8080/",
          "height": 374
        },
        "id": "uOcWBLv8QgR5",
        "outputId": "77a15a11-6ea9-4a9f-9e1f-f66973863787"
      },
      "source": [
        "plt.figure(figsize=(12, 6))\r\n",
        "\r\n",
        "plt.plot(list(range(split_index,len(data))), test_data, label = 'Test Data')\r\n",
        "plt.plot(list(range(split_index,len(data))), results, label = 'Predictions')\r\n",
        "plt.legend()\r\n",
        "plt.show()"
      ],
      "execution_count": 84,
      "outputs": [
        {
          "output_type": "display_data",
          "data": {
            "image/png": "[encoded data removed]",
            "text/plain": [
              "<Figure size 864x432 with 1 Axes>"
            ]
          },
          "metadata": {
            "tags": []
          }
        }
      ]
    },
    {
      "cell_type": "code",
      "metadata": {
        "colab": {
          "base_uri": "https://localhost:8080/"
        },
        "id": "PS3iGjSSRsKT",
        "outputId": "8e904c43-e48b-4acc-f906-9c8cf834e9eb"
      },
      "source": [
        "# Overall Error\r\n",
        "tf.keras.metrics.mean_absolute_error(test_data, results).numpy()"
      ],
      "execution_count": 85,
      "outputs": [
        {
          "output_type": "execute_result",
          "data": {
            "text/plain": [
              "16.528038"
            ]
          },
          "metadata": {
            "tags": []
          },
          "execution_count": 85
        }
      ]
    },
    {
      "cell_type": "code",
      "metadata": {
        "id": "z3eJvZ8NUQK3"
      },
      "source": [
        ""
      ],
      "execution_count": null,
      "outputs": []
    }
  ]
}